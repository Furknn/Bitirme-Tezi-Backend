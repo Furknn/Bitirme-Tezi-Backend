{
  "nbformat": 4,
  "nbformat_minor": 0,
  "metadata": {
    "colab": {
      "name": "Model Eğitimi.ipynb",
      "provenance": [],
      "collapsed_sections": [],
      "machine_shape": "hm"
    },
    "kernelspec": {
      "name": "python3",
      "display_name": "Python 3"
    },
    "accelerator": "TPU"
  },
  "cells": [
    {
      "cell_type": "code",
      "metadata": {
        "id": "pU-Y37o-qaFA",
        "colab_type": "code",
        "outputId": "1ef2ffde-b464-48ca-f8ce-f5d3e92de19b",
        "colab": {
          "base_uri": "https://localhost:8080/",
          "height": 122
        }
      },
      "source": [
        "from google.colab import drive\n",
        "drive.mount('/content/drive')"
      ],
      "execution_count": 0,
      "outputs": [
        {
          "output_type": "stream",
          "text": [
            "Go to this URL in a browser: https://accounts.google.com/o/oauth2/auth?client_id=947318989803-6bn6qk8qdgf4n4g3pfee6491hc0brc4i.apps.googleusercontent.com&redirect_uri=urn%3aietf%3awg%3aoauth%3a2.0%3aoob&response_type=code&scope=email%20https%3a%2f%2fwww.googleapis.com%2fauth%2fdocs.test%20https%3a%2f%2fwww.googleapis.com%2fauth%2fdrive%20https%3a%2f%2fwww.googleapis.com%2fauth%2fdrive.photos.readonly%20https%3a%2f%2fwww.googleapis.com%2fauth%2fpeopleapi.readonly\n",
            "\n",
            "Enter your authorization code:\n",
            "··········\n",
            "Mounted at /content/drive\n"
          ],
          "name": "stdout"
        }
      ]
    },
    {
      "cell_type": "code",
      "metadata": {
        "id": "ZGnRDPyojqZW",
        "colab_type": "code",
        "outputId": "e4e2b32d-d3c9-456c-e813-acad7f1c5bca",
        "colab": {
          "base_uri": "https://localhost:8080/",
          "height": 1000
        }
      },
      "source": [
        "!pip install keras-tuner\n",
        "!pip install tensorboard\n",
        "!pip install scikit-learn\n",
        "!pip install -U tensorboardcolab\n",
        "import tensorboardcolab as tb\n",
        "import tensorboard\n",
        "import kerastuner as kt\n",
        "import os\n",
        "import cv2\n",
        "import random\n",
        "import time\n",
        "import numpy as np\n",
        "import pickle\n",
        "import h5py\n",
        "import keras\n",
        "import datetime\n",
        "from sklearn.model_selection import train_test_split\n",
        "from sklearn.model_selection import GridSearchCV\n",
        "from tensorflow.keras.models import Sequential\n",
        "from tensorflow.keras.layers import Dense, Conv2D, Activation, Flatten, MaxPooling2D, Dropout\n",
        "from tensorflow.keras.callbacks import EarlyStopping, TensorBoard\n",
        "import tensorflow as tf\n",
        "tbc=tb.TensorBoardColab()"
      ],
      "execution_count": 0,
      "outputs": [
        {
          "output_type": "stream",
          "text": [
            "Collecting keras-tuner\n",
            "\u001b[?25l  Downloading https://files.pythonhosted.org/packages/a7/f7/4b41b6832abf4c9bef71a664dc563adb25afc5812831667c6db572b1a261/keras-tuner-1.0.1.tar.gz (54kB)\n",
            "\r\u001b[K     |██████                          | 10kB 17.9MB/s eta 0:00:01\r\u001b[K     |████████████                    | 20kB 2.2MB/s eta 0:00:01\r\u001b[K     |██████████████████              | 30kB 2.8MB/s eta 0:00:01\r\u001b[K     |████████████████████████        | 40kB 2.1MB/s eta 0:00:01\r\u001b[K     |██████████████████████████████  | 51kB 2.5MB/s eta 0:00:01\r\u001b[K     |████████████████████████████████| 61kB 2.3MB/s \n",
            "\u001b[?25hRequirement already satisfied: future in /usr/local/lib/python3.6/dist-packages (from keras-tuner) (0.16.0)\n",
            "Requirement already satisfied: numpy in /usr/local/lib/python3.6/dist-packages (from keras-tuner) (1.18.4)\n",
            "Requirement already satisfied: tabulate in /usr/local/lib/python3.6/dist-packages (from keras-tuner) (0.8.7)\n",
            "Collecting terminaltables\n",
            "  Downloading https://files.pythonhosted.org/packages/9b/c4/4a21174f32f8a7e1104798c445dacdc1d4df86f2f26722767034e4de4bff/terminaltables-3.1.0.tar.gz\n",
            "Collecting colorama\n",
            "  Downloading https://files.pythonhosted.org/packages/c9/dc/45cdef1b4d119eb96316b3117e6d5708a08029992b2fee2c143c7a0a5cc5/colorama-0.4.3-py2.py3-none-any.whl\n",
            "Requirement already satisfied: tqdm in /usr/local/lib/python3.6/dist-packages (from keras-tuner) (4.41.1)\n",
            "Requirement already satisfied: requests in /usr/local/lib/python3.6/dist-packages (from keras-tuner) (2.23.0)\n",
            "Requirement already satisfied: scipy in /usr/local/lib/python3.6/dist-packages (from keras-tuner) (1.4.1)\n",
            "Requirement already satisfied: scikit-learn in /usr/local/lib/python3.6/dist-packages (from keras-tuner) (0.22.2.post1)\n",
            "Requirement already satisfied: urllib3!=1.25.0,!=1.25.1,<1.26,>=1.21.1 in /usr/local/lib/python3.6/dist-packages (from requests->keras-tuner) (1.24.3)\n",
            "Requirement already satisfied: certifi>=2017.4.17 in /usr/local/lib/python3.6/dist-packages (from requests->keras-tuner) (2020.4.5.1)\n",
            "Requirement already satisfied: idna<3,>=2.5 in /usr/local/lib/python3.6/dist-packages (from requests->keras-tuner) (2.9)\n",
            "Requirement already satisfied: chardet<4,>=3.0.2 in /usr/local/lib/python3.6/dist-packages (from requests->keras-tuner) (3.0.4)\n",
            "Requirement already satisfied: joblib>=0.11 in /usr/local/lib/python3.6/dist-packages (from scikit-learn->keras-tuner) (0.14.1)\n",
            "Building wheels for collected packages: keras-tuner, terminaltables\n",
            "  Building wheel for keras-tuner (setup.py) ... \u001b[?25l\u001b[?25hdone\n",
            "  Created wheel for keras-tuner: filename=keras_tuner-1.0.1-cp36-none-any.whl size=73200 sha256=f23dedf8fd73c420d1f0912b04cb4e55e913e9ffb4fd558e087f189b62a8da2b\n",
            "  Stored in directory: /root/.cache/pip/wheels/b9/cc/62/52716b70dd90f3db12519233c3a93a5360bc672da1a10ded43\n",
            "  Building wheel for terminaltables (setup.py) ... \u001b[?25l\u001b[?25hdone\n",
            "  Created wheel for terminaltables: filename=terminaltables-3.1.0-cp36-none-any.whl size=15356 sha256=ec320d914d13ea33305c0978cf75e8358aa64ee3a6511e40c57215aadc313b34\n",
            "  Stored in directory: /root/.cache/pip/wheels/30/6b/50/6c75775b681fb36cdfac7f19799888ef9d8813aff9e379663e\n",
            "Successfully built keras-tuner terminaltables\n",
            "Installing collected packages: terminaltables, colorama, keras-tuner\n",
            "Successfully installed colorama-0.4.3 keras-tuner-1.0.1 terminaltables-3.1.0\n",
            "Requirement already satisfied: tensorboard in /usr/local/lib/python3.6/dist-packages (2.2.1)\n",
            "Requirement already satisfied: setuptools>=41.0.0 in /usr/local/lib/python3.6/dist-packages (from tensorboard) (46.1.3)\n",
            "Requirement already satisfied: markdown>=2.6.8 in /usr/local/lib/python3.6/dist-packages (from tensorboard) (3.2.1)\n",
            "Requirement already satisfied: google-auth<2,>=1.6.3 in /usr/local/lib/python3.6/dist-packages (from tensorboard) (1.7.2)\n",
            "Requirement already satisfied: protobuf>=3.6.0 in /usr/local/lib/python3.6/dist-packages (from tensorboard) (3.10.0)\n",
            "Requirement already satisfied: numpy>=1.12.0 in /usr/local/lib/python3.6/dist-packages (from tensorboard) (1.18.4)\n",
            "Requirement already satisfied: tensorboard-plugin-wit>=1.6.0 in /usr/local/lib/python3.6/dist-packages (from tensorboard) (1.6.0.post3)\n",
            "Requirement already satisfied: wheel>=0.26; python_version >= \"3\" in /usr/local/lib/python3.6/dist-packages (from tensorboard) (0.34.2)\n",
            "Requirement already satisfied: grpcio>=1.24.3 in /usr/local/lib/python3.6/dist-packages (from tensorboard) (1.28.1)\n",
            "Requirement already satisfied: six>=1.10.0 in /usr/local/lib/python3.6/dist-packages (from tensorboard) (1.12.0)\n",
            "Requirement already satisfied: werkzeug>=0.11.15 in /usr/local/lib/python3.6/dist-packages (from tensorboard) (1.0.1)\n",
            "Requirement already satisfied: google-auth-oauthlib<0.5,>=0.4.1 in /usr/local/lib/python3.6/dist-packages (from tensorboard) (0.4.1)\n",
            "Requirement already satisfied: absl-py>=0.4 in /usr/local/lib/python3.6/dist-packages (from tensorboard) (0.9.0)\n",
            "Requirement already satisfied: requests<3,>=2.21.0 in /usr/local/lib/python3.6/dist-packages (from tensorboard) (2.23.0)\n",
            "Requirement already satisfied: rsa<4.1,>=3.1.4 in /usr/local/lib/python3.6/dist-packages (from google-auth<2,>=1.6.3->tensorboard) (4.0)\n",
            "Requirement already satisfied: cachetools<3.2,>=2.0.0 in /usr/local/lib/python3.6/dist-packages (from google-auth<2,>=1.6.3->tensorboard) (3.1.1)\n",
            "Requirement already satisfied: pyasn1-modules>=0.2.1 in /usr/local/lib/python3.6/dist-packages (from google-auth<2,>=1.6.3->tensorboard) (0.2.8)\n",
            "Requirement already satisfied: requests-oauthlib>=0.7.0 in /usr/local/lib/python3.6/dist-packages (from google-auth-oauthlib<0.5,>=0.4.1->tensorboard) (1.3.0)\n",
            "Requirement already satisfied: chardet<4,>=3.0.2 in /usr/local/lib/python3.6/dist-packages (from requests<3,>=2.21.0->tensorboard) (3.0.4)\n",
            "Requirement already satisfied: idna<3,>=2.5 in /usr/local/lib/python3.6/dist-packages (from requests<3,>=2.21.0->tensorboard) (2.9)\n",
            "Requirement already satisfied: certifi>=2017.4.17 in /usr/local/lib/python3.6/dist-packages (from requests<3,>=2.21.0->tensorboard) (2020.4.5.1)\n",
            "Requirement already satisfied: urllib3!=1.25.0,!=1.25.1,<1.26,>=1.21.1 in /usr/local/lib/python3.6/dist-packages (from requests<3,>=2.21.0->tensorboard) (1.24.3)\n",
            "Requirement already satisfied: pyasn1>=0.1.3 in /usr/local/lib/python3.6/dist-packages (from rsa<4.1,>=3.1.4->google-auth<2,>=1.6.3->tensorboard) (0.4.8)\n",
            "Requirement already satisfied: oauthlib>=3.0.0 in /usr/local/lib/python3.6/dist-packages (from requests-oauthlib>=0.7.0->google-auth-oauthlib<0.5,>=0.4.1->tensorboard) (3.1.0)\n",
            "Requirement already satisfied: scikit-learn in /usr/local/lib/python3.6/dist-packages (0.22.2.post1)\n",
            "Requirement already satisfied: scipy>=0.17.0 in /usr/local/lib/python3.6/dist-packages (from scikit-learn) (1.4.1)\n",
            "Requirement already satisfied: numpy>=1.11.0 in /usr/local/lib/python3.6/dist-packages (from scikit-learn) (1.18.4)\n",
            "Requirement already satisfied: joblib>=0.11 in /usr/local/lib/python3.6/dist-packages (from scikit-learn) (0.14.1)\n",
            "Requirement already up-to-date: tensorboardcolab in /usr/local/lib/python3.6/dist-packages (0.0.22)\n"
          ],
          "name": "stdout"
        },
        {
          "output_type": "stream",
          "text": [
            "Using TensorFlow backend.\n"
          ],
          "name": "stderr"
        },
        {
          "output_type": "stream",
          "text": [
            "Wait for 8 seconds...\n",
            "TensorBoard link:\n",
            "http://734158fc.ngrok.io\n"
          ],
          "name": "stdout"
        }
      ]
    },
    {
      "cell_type": "code",
      "metadata": {
        "id": "lN5rvBaDie4v",
        "colab_type": "code",
        "outputId": "c5ef9e4a-d98a-489c-cb79-62deb3d58956",
        "colab": {
          "base_uri": "https://localhost:8080/",
          "height": 248
        }
      },
      "source": [
        "DATADIR = \"facesYeni\"\n",
        "IMG_SIZE = 128\n",
        "CATEGORIES = [\"Akif\", \"Ali\", \"Ela\", \"Fatih\", \"Furkan\"]\n",
        "num_classes = 5\n",
        "\n",
        "\n",
        "def create_training_data ():\n",
        "    training_data = []\n",
        "    for category in CATEGORIES:\n",
        "        path = os.path.join ('/content/drive/My Drive/Model',DATADIR, category)\n",
        "        class_num = CATEGORIES.index (category)\n",
        "        for img in os.listdir (path):\n",
        "            try:\n",
        "                img_array = cv2.imread (os.path.join (path, img), cv2.IMREAD_GRAYSCALE)\n",
        "                new_array = cv2.resize (img_array, (IMG_SIZE, IMG_SIZE))\n",
        "                training_data.append ([new_array, class_num])\n",
        "            except Exception as e:\n",
        "                print (e)\n",
        "                pass\n",
        "    random.shuffle (training_data)\n",
        "    return training_data\n",
        "\n",
        "\n",
        "training_data = create_training_data ()\n",
        "[training_data, test_data] = train_test_split (training_data)\n",
        "X = []\n",
        "y = []\n",
        "\n",
        "for features, label in training_data:\n",
        "    X.append (features)\n",
        "    y.append (label)\n",
        "X_test = []\n",
        "y_test = []\n",
        "for features, label in test_data:\n",
        "    X_test.append (features)\n",
        "    y_test.append (label)\n",
        "X = np.array (X).reshape (-1, IMG_SIZE, IMG_SIZE, 1)\n",
        "X_test = np.array (X_test).reshape (-1, IMG_SIZE, IMG_SIZE, 1)\n"
      ],
      "execution_count": 0,
      "outputs": [
        {
          "output_type": "error",
          "ename": "TypeError",
          "evalue": "ignored",
          "traceback": [
            "\u001b[0;31m---------------------------------------------------------------------------\u001b[0m",
            "\u001b[0;31mTypeError\u001b[0m                                 Traceback (most recent call last)",
            "\u001b[0;32m<ipython-input-5-fa7e2b1c0258>\u001b[0m in \u001b[0;36m<module>\u001b[0;34m()\u001b[0m\n\u001b[1;32m     39\u001b[0m \u001b[0my\u001b[0m \u001b[0;34m=\u001b[0m \u001b[0mnp\u001b[0m\u001b[0;34m.\u001b[0m\u001b[0marray\u001b[0m \u001b[0;34m(\u001b[0m\u001b[0my\u001b[0m\u001b[0;34m)\u001b[0m\u001b[0;34m\u001b[0m\u001b[0;34m\u001b[0m\u001b[0m\n\u001b[1;32m     40\u001b[0m \u001b[0my_test\u001b[0m \u001b[0;34m=\u001b[0m \u001b[0mnp\u001b[0m\u001b[0;34m.\u001b[0m\u001b[0marray\u001b[0m \u001b[0;34m(\u001b[0m\u001b[0my_test\u001b[0m\u001b[0;34m)\u001b[0m\u001b[0;34m\u001b[0m\u001b[0;34m\u001b[0m\u001b[0m\n\u001b[0;32m---> 41\u001b[0;31m \u001b[0mX_test\u001b[0m\u001b[0;34m=\u001b[0m\u001b[0mnp\u001b[0m\u001b[0;34m.\u001b[0m\u001b[0mconcatenate\u001b[0m\u001b[0;34m(\u001b[0m\u001b[0mX\u001b[0m\u001b[0;34m,\u001b[0m\u001b[0mX_test\u001b[0m\u001b[0;34m)\u001b[0m\u001b[0;34m\u001b[0m\u001b[0;34m\u001b[0m\u001b[0m\n\u001b[0m\u001b[1;32m     42\u001b[0m \u001b[0my_test\u001b[0m\u001b[0;34m=\u001b[0m\u001b[0mnp\u001b[0m\u001b[0;34m.\u001b[0m\u001b[0mconcatenate\u001b[0m\u001b[0;34m(\u001b[0m\u001b[0my\u001b[0m\u001b[0;34m,\u001b[0m\u001b[0my_test\u001b[0m\u001b[0;34m)\u001b[0m\u001b[0;34m\u001b[0m\u001b[0;34m\u001b[0m\u001b[0m\n",
            "\u001b[0;32m<__array_function__ internals>\u001b[0m in \u001b[0;36mconcatenate\u001b[0;34m(*args, **kwargs)\u001b[0m\n",
            "\u001b[0;31mTypeError\u001b[0m: only integer scalar arrays can be converted to a scalar index"
          ]
        }
      ]
    },
    {
      "cell_type": "code",
      "metadata": {
        "id": "7F7SCF0Cj6WP",
        "colab_type": "code",
        "colab": {}
      },
      "source": [
        "\n",
        "def build_model(hp):\n",
        "    model=Sequential()\n",
        "    input_kernel=hp.Choice('input_kernel',[3,5,11])\n",
        "    input_activation= hp.Choice('input_activation',['softmax','softplus','softsign','relu','tanh','sigmoid','hard_sigmoid','linear'])\n",
        "    input_units=hp.Choice('input_units',[32,64,128,256])\n",
        "    model.add(Conv2D(input_units,(input_kernel,input_kernel),strides=(1,1),input_shape=(IMG_SIZE,IMG_SIZE,1),activation=input_activation))\n",
        "\n",
        "    for i in range(hp.Int(\"Conv_Layer_Groups\",min_value=1,max_value=2)):\n",
        "      for j in range(hp.Int(f'Conv_Layer_Group_{i}_Layers',min_value=1,max_value=2)):\n",
        "        conv_units=hp.Choice(f'Conv_Group_{i}_Layer_{j}_units',[32,64,128])\n",
        "        conv_kernel=hp.Choice(f'Conv_Group_{i}_Layer_{j}_kernel',[3,5])\n",
        "        conv_activation= hp.Choice(f'Conv_Group_{i}_Layer_{j}_activation',['softmax','softplus','softsign','relu','tanh','sigmoid','hard_sigmoid','linear'])\n",
        "        model.add(Conv2D(conv_units,kernel_size=(conv_kernel,conv_kernel),strides=(1,1),activation=conv_activation))\n",
        "      \n",
        "      model.add(MaxPooling2D(pool_size=(2,2)))\n",
        "\n",
        "    model.add(Flatten())\n",
        "\n",
        "    for a in range(hp.Int('Dense_Layers',min_value=1,max_value=2)):\n",
        "      dense_units=hp.Choice(f'Dense_Layer_{a}_units',[512,1024,2048,4096])\n",
        "      dense_activation=hp.Choice(f'Dense_Layer_{a}_activation',['softmax','softplus','softsign','relu','tanh','sigmoid','hard_sigmoid','linear'])\n",
        "      model.add(tf.keras.layers.Dense(units=dense_units,activation=dense_activation))\n",
        "      dropout=hp.Choice(f'Dense_Layer_{a}_dropout',[0,1])\n",
        "      if dropout==1:\n",
        "        drop_rate= hp.Choice(f'Dense_Layer_{a}_dropout_droprate',  [ 0.05, 0.1, 0.15, 0.2,0.25, 0.3, 0.35, 0.40, 0.45, 0.50])\n",
        "        model.add(Dropout(drop_rate))\n",
        "\n",
        "    model.add(tf.keras.layers.Dense(units=num_classes))\n",
        "    model.add(Activation('softmax'))\n",
        "\n",
        "    model.compile(optimizer=tf.keras.optimizers.Adam(hp.Float('learning_rate', 1e-4, 1e-2, sampling='log')),loss='sparse_categorical_crossentropy',metrics=['accuracy'])\n",
        "    print(model.summary())\n",
        "    return model\n",
        "  \n"
      ],
      "execution_count": 0,
      "outputs": []
    },
    {
      "cell_type": "code",
      "metadata": {
        "id": "WobPmdsUiKgw",
        "colab_type": "code",
        "colab": {}
      },
      "source": [
        "def CreateModel():\n",
        "  model=Sequential()\n",
        "  activation='softsign'\n",
        "  model.add(Conv2D(32, kernel_size=(5, 5),activation=activation,input_shape=(IMG_SIZE,IMG_SIZE,1)))\n",
        "  model.add(Conv2D(64, (3, 3), activation=activation))\n",
        "  model.add(Conv2D(128, (3, 3), activation=activation))\n",
        "  model.add(Conv2D(256, (3, 3), activation=activation))\n",
        "  model.add(MaxPooling2D(pool_size=(2, 2)))\n",
        "  model.add(Flatten())\n",
        "  activation='relu'\n",
        "  model.add(Dense(256, activation=activation))\n",
        "  drop= 0.4\n",
        "  model.add(Dropout(drop))\n",
        "  model.add(Dense(128, activation=activation))\n",
        "  model.add(Dropout(drop))\n",
        "  model.add(Dense(num_classes, activation='softmax'))\n",
        "  model.compile( optimizer=tf.keras.optimizers.Adamax(learning_rate=0.00012763229197396264 ),  loss= 'sparse_categorical_crossentropy' ,metrics=['accuracy'])\n",
        "  return model\n"
      ],
      "execution_count": 0,
      "outputs": []
    },
    {
      "cell_type": "code",
      "metadata": {
        "id": "vqKUdWDPzeLa",
        "colab_type": "code",
        "outputId": "efe26a88-d3ec-475c-ffa1-5203bca94f08",
        "colab": {
          "base_uri": "https://localhost:8080/",
          "height": 1000
        }
      },
      "source": [
        "model=CreateModel()\n",
        "my_callbacks = [\n",
        "    tf.keras.callbacks.EarlyStopping(monitor='loss', min_delta=0.0001,patience=5),\n",
        "    tf.keras.callbacks.ModelCheckpoint(filepath='model.{epoch:02d}-{val_loss:.2f}.h5'),\n",
        "    #tb.TensorBoardColabCallback(tbc)\n",
        "]\n",
        "\n",
        "fit=model.fit(X,y,batch_size=10,epochs=50,verbose=1,validation_split=0.10,callbacks=my_callbacks)\n",
        "test=model.evaluate(X_test,y_test)"
      ],
      "execution_count": 0,
      "outputs": [
        {
          "output_type": "stream",
          "text": [
            "Epoch 1/50\n",
            "7/7 [==============================] - 27s 4s/step - loss: 13.5863 - accuracy: 0.2090 - val_loss: 2.7796 - val_accuracy: 0.2500\n",
            "Epoch 2/50\n",
            "7/7 [==============================] - 43s 6s/step - loss: 2.8388 - accuracy: 0.2687 - val_loss: 2.2495 - val_accuracy: 0.5000\n",
            "Epoch 3/50\n",
            "7/7 [==============================] - 46s 7s/step - loss: 2.8685 - accuracy: 0.3881 - val_loss: 1.5400 - val_accuracy: 0.3750\n",
            "Epoch 4/50\n",
            "7/7 [==============================] - 42s 6s/step - loss: 2.0318 - accuracy: 0.3582 - val_loss: 1.2292 - val_accuracy: 0.3750\n",
            "Epoch 5/50\n",
            "7/7 [==============================] - 47s 7s/step - loss: 1.8008 - accuracy: 0.4478 - val_loss: 1.0866 - val_accuracy: 0.5000\n",
            "Epoch 6/50\n",
            "7/7 [==============================] - 44s 6s/step - loss: 0.8958 - accuracy: 0.6119 - val_loss: 0.7100 - val_accuracy: 0.7500\n",
            "Epoch 7/50\n",
            "7/7 [==============================] - 44s 6s/step - loss: 0.7806 - accuracy: 0.6418 - val_loss: 0.7553 - val_accuracy: 1.0000\n",
            "Epoch 8/50\n",
            "7/7 [==============================] - 44s 6s/step - loss: 0.7070 - accuracy: 0.6716 - val_loss: 0.6905 - val_accuracy: 0.7500\n",
            "Epoch 9/50\n",
            "7/7 [==============================] - 43s 6s/step - loss: 0.5769 - accuracy: 0.8358 - val_loss: 0.4859 - val_accuracy: 0.8750\n",
            "Epoch 10/50\n",
            "7/7 [==============================] - 44s 6s/step - loss: 0.4778 - accuracy: 0.8209 - val_loss: 0.4214 - val_accuracy: 1.0000\n",
            "Epoch 11/50\n",
            "7/7 [==============================] - 46s 7s/step - loss: 0.2809 - accuracy: 0.9254 - val_loss: 0.6304 - val_accuracy: 0.7500\n",
            "Epoch 12/50\n",
            "7/7 [==============================] - 44s 6s/step - loss: 0.3341 - accuracy: 0.8657 - val_loss: 0.2639 - val_accuracy: 1.0000\n",
            "Epoch 13/50\n",
            "7/7 [==============================] - 46s 7s/step - loss: 0.2445 - accuracy: 0.9104 - val_loss: 0.3939 - val_accuracy: 0.7500\n",
            "Epoch 14/50\n",
            "7/7 [==============================] - 44s 6s/step - loss: 0.2259 - accuracy: 0.9403 - val_loss: 0.4570 - val_accuracy: 1.0000\n",
            "Epoch 15/50\n",
            "7/7 [==============================] - 44s 6s/step - loss: 0.1697 - accuracy: 0.9254 - val_loss: 0.4331 - val_accuracy: 0.7500\n",
            "Epoch 16/50\n",
            "7/7 [==============================] - 43s 6s/step - loss: 0.2339 - accuracy: 0.9552 - val_loss: 0.3358 - val_accuracy: 0.8750\n",
            "Epoch 17/50\n",
            "7/7 [==============================] - 42s 6s/step - loss: 0.1077 - accuracy: 0.9552 - val_loss: 0.2194 - val_accuracy: 1.0000\n",
            "Epoch 18/50\n",
            "7/7 [==============================] - 46s 7s/step - loss: 0.1056 - accuracy: 0.9552 - val_loss: 0.3150 - val_accuracy: 0.8750\n",
            "Epoch 19/50\n",
            "7/7 [==============================] - 46s 7s/step - loss: 0.2379 - accuracy: 0.9104 - val_loss: 0.3132 - val_accuracy: 0.8750\n",
            "Epoch 20/50\n",
            "7/7 [==============================] - 46s 7s/step - loss: 0.1190 - accuracy: 0.9701 - val_loss: 0.3428 - val_accuracy: 1.0000\n",
            "Epoch 21/50\n",
            "7/7 [==============================] - 43s 6s/step - loss: 0.1684 - accuracy: 0.9701 - val_loss: 0.3811 - val_accuracy: 0.7500\n",
            "Epoch 22/50\n",
            "7/7 [==============================] - 44s 6s/step - loss: 0.0911 - accuracy: 0.9552 - val_loss: 0.2599 - val_accuracy: 1.0000\n",
            "Epoch 23/50\n",
            "7/7 [==============================] - 42s 6s/step - loss: 0.0761 - accuracy: 0.9851 - val_loss: 0.1945 - val_accuracy: 1.0000\n",
            "Epoch 24/50\n",
            "7/7 [==============================] - 44s 6s/step - loss: 0.0378 - accuracy: 1.0000 - val_loss: 0.1199 - val_accuracy: 1.0000\n",
            "Epoch 25/50\n",
            "7/7 [==============================] - 47s 7s/step - loss: 0.0661 - accuracy: 0.9701 - val_loss: 0.2002 - val_accuracy: 1.0000\n",
            "Epoch 26/50\n",
            "7/7 [==============================] - 44s 6s/step - loss: 0.0590 - accuracy: 0.9851 - val_loss: 0.2410 - val_accuracy: 1.0000\n",
            "Epoch 27/50\n",
            "7/7 [==============================] - 44s 6s/step - loss: 0.0565 - accuracy: 0.9851 - val_loss: 0.2194 - val_accuracy: 1.0000\n",
            "Epoch 28/50\n",
            "7/7 [==============================] - 45s 6s/step - loss: 0.0315 - accuracy: 1.0000 - val_loss: 0.1910 - val_accuracy: 1.0000\n",
            "Epoch 29/50\n",
            "7/7 [==============================] - 44s 6s/step - loss: 0.0842 - accuracy: 0.9701 - val_loss: 0.1697 - val_accuracy: 1.0000\n",
            "Epoch 30/50\n",
            "7/7 [==============================] - 42s 6s/step - loss: 0.0074 - accuracy: 1.0000 - val_loss: 0.1726 - val_accuracy: 1.0000\n",
            "Epoch 31/50\n",
            "7/7 [==============================] - 46s 7s/step - loss: 0.0881 - accuracy: 0.9701 - val_loss: 0.1478 - val_accuracy: 1.0000\n",
            "Epoch 32/50\n",
            "7/7 [==============================] - 46s 7s/step - loss: 0.0342 - accuracy: 1.0000 - val_loss: 0.1612 - val_accuracy: 1.0000\n",
            "Epoch 33/50\n",
            "7/7 [==============================] - 44s 6s/step - loss: 0.0442 - accuracy: 1.0000 - val_loss: 0.1090 - val_accuracy: 1.0000\n",
            "Epoch 34/50\n",
            "7/7 [==============================] - 44s 6s/step - loss: 0.1004 - accuracy: 0.9701 - val_loss: 0.1209 - val_accuracy: 1.0000\n",
            "Epoch 35/50\n",
            "7/7 [==============================] - 41s 6s/step - loss: 0.0409 - accuracy: 1.0000 - val_loss: 0.1133 - val_accuracy: 1.0000\n",
            "1/1 [==============================] - 0s 2ms/step - loss: 0.4453 - accuracy: 0.8800\n"
          ],
          "name": "stdout"
        }
      ]
    },
    {
      "cell_type": "code",
      "metadata": {
        "id": "2NO1pXlPPlc4",
        "colab_type": "code",
        "outputId": "1d0b1578-7104-4edb-da41-fd2ee4eaf485",
        "colab": {
          "base_uri": "https://localhost:8080/",
          "height": 51
        }
      },
      "source": [
        "model.load_weights('model.23-0.39.h5')\n",
        "print(model.evaluate(X_test,y_test))"
      ],
      "execution_count": 0,
      "outputs": [
        {
          "output_type": "stream",
          "text": [
            "2/2 [==============================] - 0s 55ms/step - loss: 0.6322 - accuracy: 0.7105\n",
            "[0.632206380367279, 0.7105262875556946]\n"
          ],
          "name": "stdout"
        }
      ]
    },
    {
      "cell_type": "code",
      "metadata": {
        "id": "RBT_1AqVPwAe",
        "colab_type": "code",
        "outputId": "50e3758d-60bf-499f-bca2-cd06e3e260ae",
        "colab": {
          "base_uri": "https://localhost:8080/",
          "height": 51
        }
      },
      "source": [
        "model.load_weights('model.24-0.41.h5')\n",
        "print(model.evaluate(X_test,y_test))"
      ],
      "execution_count": 0,
      "outputs": [
        {
          "output_type": "stream",
          "text": [
            "2/2 [==============================] - 0s 55ms/step - loss: 0.6250 - accuracy: 0.7105\n",
            "[0.6249628663063049, 0.7105262875556946]\n"
          ],
          "name": "stdout"
        }
      ]
    },
    {
      "cell_type": "code",
      "metadata": {
        "id": "_vMszQhHP0W-",
        "colab_type": "code",
        "outputId": "f3c7f449-8840-4ad6-a1ff-543264d8c1c5",
        "colab": {
          "base_uri": "https://localhost:8080/",
          "height": 51
        }
      },
      "source": [
        "model.load_weights('/content/drive/My Drive/Model/mymodel.h5')\n",
        "print(model.evaluate(X_test,y_test))"
      ],
      "execution_count": 0,
      "outputs": [
        {
          "output_type": "stream",
          "text": [
            "2/2 [==============================] - 0s 57ms/step - loss: 0.5863 - accuracy: 0.7368\n",
            "[0.5862518548965454, 0.7368420958518982]\n"
          ],
          "name": "stdout"
        }
      ]
    },
    {
      "cell_type": "code",
      "metadata": {
        "id": "WYrL2TxHRRzY",
        "colab_type": "code",
        "outputId": "30b9d6f7-eedf-4465-a984-96a71949805c",
        "colab": {
          "base_uri": "https://localhost:8080/",
          "height": 221
        }
      },
      "source": [
        "from sklearn.metrics import classification_report\n",
        "from sklearn.preprocessing import binarize\n",
        "pred=binarize(pred)\n",
        "#en son gittim kendim yazdım\n",
        "\n",
        "\n",
        "y_pred=model.predict_classes(X_test)\n",
        "\n",
        "print(classification_report(y_test, y_pred))"
      ],
      "execution_count": 0,
      "outputs": [
        {
          "output_type": "stream",
          "text": [
            "              precision    recall  f1-score   support\n",
            "\n",
            "           0       0.83      0.50      0.62        10\n",
            "           1       0.78      1.00      0.88         7\n",
            "           2       1.00      0.75      0.86         8\n",
            "           3       0.57      0.80      0.67         5\n",
            "           4       0.60      0.75      0.67         8\n",
            "\n",
            "    accuracy                           0.74        38\n",
            "   macro avg       0.76      0.76      0.74        38\n",
            "weighted avg       0.77      0.74      0.73        38\n",
            "\n"
          ],
          "name": "stdout"
        }
      ]
    },
    {
      "cell_type": "code",
      "metadata": {
        "id": "tJE_ITheVa5Q",
        "colab_type": "code",
        "outputId": "2fdc27e5-7979-4de8-dbde-630fdc2a924b",
        "colab": {
          "base_uri": "https://localhost:8080/",
          "height": 34
        }
      },
      "source": [
        "np.argmax(y_pred)"
      ],
      "execution_count": 0,
      "outputs": [
        {
          "output_type": "execute_result",
          "data": {
            "text/plain": [
              "181"
            ]
          },
          "metadata": {
            "tags": []
          },
          "execution_count": 68
        }
      ]
    },
    {
      "cell_type": "code",
      "metadata": {
        "id": "pgtXtc4VP_me",
        "colab_type": "code",
        "outputId": "11a86951-a605-46ac-edfc-7346fe10ca69",
        "colab": {
          "base_uri": "https://localhost:8080/",
          "height": 425
        }
      },
      "source": [
        "model.load_weights('model.27-0.42.h5')\n",
        "print(model.evaluate(X_test,y_test))"
      ],
      "execution_count": 0,
      "outputs": [
        {
          "output_type": "error",
          "ename": "OSError",
          "evalue": "ignored",
          "traceback": [
            "\u001b[0;31m---------------------------------------------------------------------------\u001b[0m",
            "\u001b[0;31mOSError\u001b[0m                                   Traceback (most recent call last)",
            "\u001b[0;32m<ipython-input-86-d9df0efe5a43>\u001b[0m in \u001b[0;36m<module>\u001b[0;34m()\u001b[0m\n\u001b[0;32m----> 1\u001b[0;31m \u001b[0mmodel\u001b[0m\u001b[0;34m.\u001b[0m\u001b[0mload_weights\u001b[0m\u001b[0;34m(\u001b[0m\u001b[0;34m'model.27-0.42.h5'\u001b[0m\u001b[0;34m)\u001b[0m\u001b[0;34m\u001b[0m\u001b[0;34m\u001b[0m\u001b[0m\n\u001b[0m\u001b[1;32m      2\u001b[0m \u001b[0mprint\u001b[0m\u001b[0;34m(\u001b[0m\u001b[0mmodel\u001b[0m\u001b[0;34m.\u001b[0m\u001b[0mevaluate\u001b[0m\u001b[0;34m(\u001b[0m\u001b[0mX_test\u001b[0m\u001b[0;34m,\u001b[0m\u001b[0my_test\u001b[0m\u001b[0;34m)\u001b[0m\u001b[0;34m)\u001b[0m\u001b[0;34m\u001b[0m\u001b[0;34m\u001b[0m\u001b[0m\n",
            "\u001b[0;32m/usr/local/lib/python3.6/dist-packages/tensorflow/python/keras/engine/training.py\u001b[0m in \u001b[0;36mload_weights\u001b[0;34m(self, filepath, by_name, skip_mismatch)\u001b[0m\n\u001b[1;32m    248\u001b[0m         raise ValueError('Load weights is not yet supported with TPUStrategy '\n\u001b[1;32m    249\u001b[0m                          'with steps_per_run greater than 1.')\n\u001b[0;32m--> 250\u001b[0;31m     \u001b[0;32mreturn\u001b[0m \u001b[0msuper\u001b[0m\u001b[0;34m(\u001b[0m\u001b[0mModel\u001b[0m\u001b[0;34m,\u001b[0m \u001b[0mself\u001b[0m\u001b[0;34m)\u001b[0m\u001b[0;34m.\u001b[0m\u001b[0mload_weights\u001b[0m\u001b[0;34m(\u001b[0m\u001b[0mfilepath\u001b[0m\u001b[0;34m,\u001b[0m \u001b[0mby_name\u001b[0m\u001b[0;34m,\u001b[0m \u001b[0mskip_mismatch\u001b[0m\u001b[0;34m)\u001b[0m\u001b[0;34m\u001b[0m\u001b[0;34m\u001b[0m\u001b[0m\n\u001b[0m\u001b[1;32m    251\u001b[0m \u001b[0;34m\u001b[0m\u001b[0m\n\u001b[1;32m    252\u001b[0m   def compile(self,\n",
            "\u001b[0;32m/usr/local/lib/python3.6/dist-packages/tensorflow/python/keras/engine/network.py\u001b[0m in \u001b[0;36mload_weights\u001b[0;34m(self, filepath, by_name, skip_mismatch)\u001b[0m\n\u001b[1;32m   1257\u001b[0m           'first, then load the weights.')\n\u001b[1;32m   1258\u001b[0m     \u001b[0mself\u001b[0m\u001b[0;34m.\u001b[0m\u001b[0m_assert_weights_created\u001b[0m\u001b[0;34m(\u001b[0m\u001b[0;34m)\u001b[0m\u001b[0;34m\u001b[0m\u001b[0;34m\u001b[0m\u001b[0m\n\u001b[0;32m-> 1259\u001b[0;31m     \u001b[0;32mwith\u001b[0m \u001b[0mh5py\u001b[0m\u001b[0;34m.\u001b[0m\u001b[0mFile\u001b[0m\u001b[0;34m(\u001b[0m\u001b[0mfilepath\u001b[0m\u001b[0;34m,\u001b[0m \u001b[0;34m'r'\u001b[0m\u001b[0;34m)\u001b[0m \u001b[0;32mas\u001b[0m \u001b[0mf\u001b[0m\u001b[0;34m:\u001b[0m\u001b[0;34m\u001b[0m\u001b[0;34m\u001b[0m\u001b[0m\n\u001b[0m\u001b[1;32m   1260\u001b[0m       \u001b[0;32mif\u001b[0m \u001b[0;34m'layer_names'\u001b[0m \u001b[0;32mnot\u001b[0m \u001b[0;32min\u001b[0m \u001b[0mf\u001b[0m\u001b[0;34m.\u001b[0m\u001b[0mattrs\u001b[0m \u001b[0;32mand\u001b[0m \u001b[0;34m'model_weights'\u001b[0m \u001b[0;32min\u001b[0m \u001b[0mf\u001b[0m\u001b[0;34m:\u001b[0m\u001b[0;34m\u001b[0m\u001b[0;34m\u001b[0m\u001b[0m\n\u001b[1;32m   1261\u001b[0m         \u001b[0mf\u001b[0m \u001b[0;34m=\u001b[0m \u001b[0mf\u001b[0m\u001b[0;34m[\u001b[0m\u001b[0;34m'model_weights'\u001b[0m\u001b[0;34m]\u001b[0m\u001b[0;34m\u001b[0m\u001b[0;34m\u001b[0m\u001b[0m\n",
            "\u001b[0;32m/usr/local/lib/python3.6/dist-packages/h5py/_hl/files.py\u001b[0m in \u001b[0;36m__init__\u001b[0;34m(self, name, mode, driver, libver, userblock_size, swmr, rdcc_nslots, rdcc_nbytes, rdcc_w0, track_order, **kwds)\u001b[0m\n\u001b[1;32m    406\u001b[0m                 fid = make_fid(name, mode, userblock_size,\n\u001b[1;32m    407\u001b[0m                                \u001b[0mfapl\u001b[0m\u001b[0;34m,\u001b[0m \u001b[0mfcpl\u001b[0m\u001b[0;34m=\u001b[0m\u001b[0mmake_fcpl\u001b[0m\u001b[0;34m(\u001b[0m\u001b[0mtrack_order\u001b[0m\u001b[0;34m=\u001b[0m\u001b[0mtrack_order\u001b[0m\u001b[0;34m)\u001b[0m\u001b[0;34m,\u001b[0m\u001b[0;34m\u001b[0m\u001b[0;34m\u001b[0m\u001b[0m\n\u001b[0;32m--> 408\u001b[0;31m                                swmr=swmr)\n\u001b[0m\u001b[1;32m    409\u001b[0m \u001b[0;34m\u001b[0m\u001b[0m\n\u001b[1;32m    410\u001b[0m             \u001b[0;32mif\u001b[0m \u001b[0misinstance\u001b[0m\u001b[0;34m(\u001b[0m\u001b[0mlibver\u001b[0m\u001b[0;34m,\u001b[0m \u001b[0mtuple\u001b[0m\u001b[0;34m)\u001b[0m\u001b[0;34m:\u001b[0m\u001b[0;34m\u001b[0m\u001b[0;34m\u001b[0m\u001b[0m\n",
            "\u001b[0;32m/usr/local/lib/python3.6/dist-packages/h5py/_hl/files.py\u001b[0m in \u001b[0;36mmake_fid\u001b[0;34m(name, mode, userblock_size, fapl, fcpl, swmr)\u001b[0m\n\u001b[1;32m    171\u001b[0m         \u001b[0;32mif\u001b[0m \u001b[0mswmr\u001b[0m \u001b[0;32mand\u001b[0m \u001b[0mswmr_support\u001b[0m\u001b[0;34m:\u001b[0m\u001b[0;34m\u001b[0m\u001b[0;34m\u001b[0m\u001b[0m\n\u001b[1;32m    172\u001b[0m             \u001b[0mflags\u001b[0m \u001b[0;34m|=\u001b[0m \u001b[0mh5f\u001b[0m\u001b[0;34m.\u001b[0m\u001b[0mACC_SWMR_READ\u001b[0m\u001b[0;34m\u001b[0m\u001b[0;34m\u001b[0m\u001b[0m\n\u001b[0;32m--> 173\u001b[0;31m         \u001b[0mfid\u001b[0m \u001b[0;34m=\u001b[0m \u001b[0mh5f\u001b[0m\u001b[0;34m.\u001b[0m\u001b[0mopen\u001b[0m\u001b[0;34m(\u001b[0m\u001b[0mname\u001b[0m\u001b[0;34m,\u001b[0m \u001b[0mflags\u001b[0m\u001b[0;34m,\u001b[0m \u001b[0mfapl\u001b[0m\u001b[0;34m=\u001b[0m\u001b[0mfapl\u001b[0m\u001b[0;34m)\u001b[0m\u001b[0;34m\u001b[0m\u001b[0;34m\u001b[0m\u001b[0m\n\u001b[0m\u001b[1;32m    174\u001b[0m     \u001b[0;32melif\u001b[0m \u001b[0mmode\u001b[0m \u001b[0;34m==\u001b[0m \u001b[0;34m'r+'\u001b[0m\u001b[0;34m:\u001b[0m\u001b[0;34m\u001b[0m\u001b[0;34m\u001b[0m\u001b[0m\n\u001b[1;32m    175\u001b[0m         \u001b[0mfid\u001b[0m \u001b[0;34m=\u001b[0m \u001b[0mh5f\u001b[0m\u001b[0;34m.\u001b[0m\u001b[0mopen\u001b[0m\u001b[0;34m(\u001b[0m\u001b[0mname\u001b[0m\u001b[0;34m,\u001b[0m \u001b[0mh5f\u001b[0m\u001b[0;34m.\u001b[0m\u001b[0mACC_RDWR\u001b[0m\u001b[0;34m,\u001b[0m \u001b[0mfapl\u001b[0m\u001b[0;34m=\u001b[0m\u001b[0mfapl\u001b[0m\u001b[0;34m)\u001b[0m\u001b[0;34m\u001b[0m\u001b[0;34m\u001b[0m\u001b[0m\n",
            "\u001b[0;32mh5py/_objects.pyx\u001b[0m in \u001b[0;36mh5py._objects.with_phil.wrapper\u001b[0;34m()\u001b[0m\n",
            "\u001b[0;32mh5py/_objects.pyx\u001b[0m in \u001b[0;36mh5py._objects.with_phil.wrapper\u001b[0;34m()\u001b[0m\n",
            "\u001b[0;32mh5py/h5f.pyx\u001b[0m in \u001b[0;36mh5py.h5f.open\u001b[0;34m()\u001b[0m\n",
            "\u001b[0;31mOSError\u001b[0m: Unable to open file (unable to open file: name = 'model.27-0.42.h5', errno = 2, error message = 'No such file or directory', flags = 0, o_flags = 0)"
          ]
        }
      ]
    },
    {
      "cell_type": "code",
      "metadata": {
        "id": "fWfEiQFUQgoH",
        "colab_type": "code",
        "colab": {}
      },
      "source": [
        "from tensorflow.keras.wrappers.scikit_learn import KerasClassifier\n",
        "model=KerasClassifier(build_fn=CreateModel)\n",
        "batch_sizes=[10,20,50,100]\n",
        "epochs=[20]\n",
        "parameters={'batch_size':batch_sizes,'epochs':epochs}\n",
        "clf=GridSearchCV(model,parameters,scoring=\"accuracy\",verbose=1,cv=2)\n",
        "fit=clf.fit(X,y,validation_data=(X_test,y_test))"
      ],
      "execution_count": 0,
      "outputs": []
    },
    {
      "cell_type": "code",
      "metadata": {
        "id": "mjlNnQGikhbE",
        "colab_type": "code",
        "colab": {}
      },
      "source": [
        "print(\"Best: %f using %s\" % (fit.best_score_, fit.best_params_))\n",
        "means=clf.cv_results_['mean_test_score']\n",
        "params=clf.cv_results_['params']\n",
        "for mean,params in zip(means,params):\n",
        "  print(mean,params)"
      ],
      "execution_count": 0,
      "outputs": []
    },
    {
      "cell_type": "code",
      "metadata": {
        "id": "Yc04PebscgcT",
        "colab_type": "code",
        "colab": {}
      },
      "source": [
        "LOG_DIR = f\"ActivationTest{int(time.time())}\"\n",
        "\n",
        "tuner = kt.RandomSearch(\n",
        "    CreateModel,\n",
        "    objective='val_accuracy',\n",
        "    max_trials=20,  \n",
        "    executions_per_trial=1, \n",
        "    directory=LOG_DIR)"
      ],
      "execution_count": 0,
      "outputs": []
    },
    {
      "cell_type": "code",
      "metadata": {
        "id": "uTCx_weWE9zd",
        "colab_type": "code",
        "colab": {}
      },
      "source": [
        "\n",
        "\n",
        "tuner.search(x=X,\n",
        "             y=y,\n",
        "             verbose=1,\n",
        "             epochs=50,\n",
        "             batch_size=50,\n",
        "             callbacks=[earlystop_callback],\n",
        "             # if you have callbacks like tensorboard, they go here.\n",
        "             validation_data=(X_test, y_test))#gpu hakkın oldugunda calıstır"
      ],
      "execution_count": 0,
      "outputs": []
    },
    {
      "cell_type": "code",
      "metadata": {
        "id": "9ZRa2QUlQDhe",
        "colab_type": "code",
        "colab": {}
      },
      "source": [
        "tf.keras.models.save_model(model,'mymodel.h5')"
      ],
      "execution_count": 0,
      "outputs": []
    },
    {
      "cell_type": "code",
      "metadata": {
        "id": "0tVxvw_cOrOI",
        "colab_type": "code",
        "colab": {}
      },
      "source": [
        "import matplotlib.pyplot as plt\n",
        "# Plot the Loss Curves\n",
        "\n",
        "plt.subplot(111)\n",
        "plt.plot(fit.history['loss'], 'r')\n",
        "plt.plot(fit.history['val_loss'], 'b')\n",
        "plt.legend(['Training loss', 'Validation Loss'])\n",
        "plt.xlabel('Epochs ')\n",
        "plt.ylabel('Loss')\n",
        "plt.title('Loss Curves')\n",
        "plt.savefig('madelfig3')\n",
        "plt.close()"
      ],
      "execution_count": 0,
      "outputs": []
    },
    {
      "cell_type": "code",
      "metadata": {
        "id": "0_MIsXMWKauo",
        "colab_type": "code",
        "outputId": "01e02bf3-e7f9-42e4-ce73-d8e84831a037",
        "colab": {
          "base_uri": "https://localhost:8080/",
          "height": 295
        }
      },
      "source": [
        "\n",
        "import matplotlib.pyplot as plt\n",
        "# Plot the Loss Curves\n",
        "\n",
        "plt.subplot(211)\n",
        "plt.plot(fit.history['loss'], 'r')\n",
        "plt.plot(fit.history['val_loss'], 'b')\n",
        "plt.legend(['Training loss', 'Validation Loss'])\n",
        "plt.xlabel('Epochs ')\n",
        "plt.ylabel('Loss')\n",
        "plt.title('Loss Curves')\n",
        "# Plot the Accuracy Curves\n",
        "plt.subplot(212)\n",
        "plt.plot(fit.history['accuracy'], 'r')\n",
        "plt.plot(fit.history['val_accuracy'], 'b')\n",
        "plt.legend(['Training Accuracy', 'Validation Accuracy'])\n",
        "plt.xlabel('Epochs ')\n",
        "plt.ylabel('Accuracy')\n",
        "plt.title('Accuracy Curves')\n",
        "\n",
        "plt.savefig('modelfig')"
      ],
      "execution_count": 0,
      "outputs": [
        {
          "output_type": "display_data",
          "data": {
            "image/png": "[encoded data removed]",
            "text/plain": [
              "<Figure size 432x288 with 2 Axes>"
            ]
          },
          "metadata": {
            "tags": [],
            "needs_background": "light"
          }
        }
      ]
    }
  ]
}